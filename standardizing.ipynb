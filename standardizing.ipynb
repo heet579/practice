{
 "cells": [
  {
   "cell_type": "code",
   "execution_count": 38,
   "metadata": {},
   "outputs": [],
   "source": [
    "import pandas as pd"
   ]
  },
  {
   "cell_type": "code",
   "execution_count": 23,
   "metadata": {},
   "outputs": [
    {
     "name": "stdout",
     "output_type": "stream",
     "text": [
      "   weight  price\n",
      "0     300      3\n",
      "1     250      2\n",
      "2     900      5\n"
     ]
    }
   ],
   "source": [
    "data = {'weight' : [300, 250, 900],\n",
    "        'price' : [3, 2, 5]}\n",
    "df = pd.DataFrame(data)\n",
    "print(df)"
   ]
  },
  {
   "cell_type": "code",
   "execution_count": 24,
   "metadata": {},
   "outputs": [
    {
     "name": "stdout",
     "output_type": "stream",
     "text": [
      "[[-0.62076591 -0.26726124]\n",
      " [-0.79006571 -1.06904497]\n",
      " [ 1.41083162  1.33630621]]\n"
     ]
    }
   ],
   "source": [
    "from sklearn.preprocessing import StandardScaler\n",
    "scaler = StandardScaler()\n",
    "standardized_data = scaler.fit_transform(df)\n",
    "print(standardized_data)"
   ]
  },
  {
   "cell_type": "code",
   "execution_count": 25,
   "metadata": {},
   "outputs": [
    {
     "name": "stdout",
     "output_type": "stream",
     "text": [
      "     weight     price\n",
      "0 -0.620766 -0.267261\n",
      "1 -0.790066 -1.069045\n",
      "2  1.410832  1.336306\n"
     ]
    }
   ],
   "source": [
    "standardized_df = pd.DataFrame(standardized_data, columns=df.columns)\n",
    "print(standardized_df)"
   ]
  }
 ],
 "metadata": {
  "kernelspec": {
   "display_name": "Python 3.8.4 64-bit",
   "language": "python",
   "name": "python3"
  },
  "language_info": {
   "codemirror_mode": {
    "name": "ipython",
    "version": 3
   },
   "file_extension": ".py",
   "mimetype": "text/x-python",
   "name": "python",
   "nbconvert_exporter": "python",
   "pygments_lexer": "ipython3",
   "version": "3.8.4"
  },
  "orig_nbformat": 4,
  "vscode": {
   "interpreter": {
    "hash": "423314e55057b91c9fb5b0313fb038fba2d8588bd06913c101bc79b2ef499e2e"
   }
  }
 },
 "nbformat": 4,
 "nbformat_minor": 2
}
